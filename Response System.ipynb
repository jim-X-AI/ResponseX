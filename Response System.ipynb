{
 "cells": [
  {
   "cell_type": "markdown",
   "id": "fe3b880c-aded-46a4-b56e-e5e9d4459161",
   "metadata": {},
   "source": [
    "# Response System\n",
    "#### 1.Designing the architecture (e.g., system components and workflows)\n",
    "#### 2.Implementing specific response actions (e.g., isolating systems, alerting personnel, or triggering recovery processes)\n",
    "#### 3.Integrating with other systems like firewalls, SIEMs, or ticketing systems\n",
    "#### 4.Testing response scenarios"
   ]
  },
  {
   "cell_type": "raw",
   "id": "b9d1c1b2-822c-4f1a-a6f1-4a93e3aa9e1a",
   "metadata": {},
   "source": []
  },
  {
   "cell_type": "markdown",
   "id": "27b5e816-7b79-41b9-ae98-683fa494178a",
   "metadata": {},
   "source": [
    "# A.Designing the architecture\n",
    "## System Component;\n",
    "#### 1.Threat Detection Module:\n",
    "Integrates your AI model to analyze incoming data and detect threats in real-time.\n",
    "#### 2.Response Engine:\n",
    "Handles actions like isolating systems, alerting personnel, and initiating recovery.\n",
    "#### 3.Integration Layer:\n",
    "Facilitates communication with external systems like firewalls, SIEMs, or ticketing platforms via APIs.\n",
    "#### 4.Monitoring & Logging Module:\n",
    "Tracks all actions and incidents, storing logs for auditing and continuous improvement.\n",
    "#### 5.Control Dashboard\n",
    "A user interface for monitoring incidents and managing responses manually if needed.\n",
    "\n",
    "## The Workflow\n",
    "#### 1.Detection: Incoming data (e.g., logs, network traffic) is analyzed by the Threat Detection Module.\n",
    "#### 2.Response Trigger: When a threat is detected, an alert is generated and sent to the Response Engine.\n",
    "#### 3.Action Execution: The Response Engine executes predefined actions, such as isolating a compromised system or sending notifications.\n",
    "#### 4.Integration: The Integration Layer ensures that actions are coordinated with firewalls, SIEMs, etc.\n",
    "#### 5.Logging and Monitoring: All events are logged for review, and the Control Dashboard updates the status in real time.\n",
    "\n"
   ]
  },
  {
   "cell_type": "markdown",
   "id": "57e1daad-030c-4723-9b65-420325b93281",
   "metadata": {},
   "source": [
    "# B. Implementing specific response action\n"
   ]
  },
  {
   "cell_type": "code",
   "execution_count": 1,
   "id": "b367a0ce-9c6b-4577-8f6a-eb78dc33c4bc",
   "metadata": {},
   "outputs": [
    {
     "name": "stdout",
     "output_type": "stream",
     "text": [
      "This script requires Administrative Priviledges. Please rerun as an Administrator\n"
     ]
    }
   ],
   "source": [
    "# Isolating affected systems\n",
    "import os\n",
    "import platform\n",
    "import subprocess\n",
    "import ctypes\n",
    "\n",
    "def is_admin():\n",
    "    \"\"\"Check if the script is running with admin privileges.\"\"\"\n",
    "    try:\n",
    "        return os.geteuid() == 0  # Linux/Darwin admin check\n",
    "    except AttributeError:\n",
    "        return ctypes.windll.shell32.IsUserAnAdmin()  # Windows admin check\n",
    "def isolate_systems():\n",
    "    if not is_admin():\n",
    "        print(\"This script requires Administrative Priviledges. Please rerun as an Administrator\")\n",
    "    # Check the OS\n",
    "        return \n",
    "    current_os = platform.system()\n",
    "\n",
    "    try:\n",
    "        if current_os == \"Linux\" or current_os == \"Darwin\":\n",
    "            print(\"Operating System Detected: \", current_os)\n",
    "            # get the active network interfaces\n",
    "            interfaces = subprocess.check_output(\"ifconfig -l\", shell=True, ).decode().split()\n",
    "            print(f\"Detected Interfaces: {interfaces}\")\n",
    "            interface = interfaces[0]\n",
    "\n",
    "            # Disable the network interface\n",
    "            subprocess.run([\"sudo\", \"ifconfig\", interface, \"down\"], check=True)\n",
    "            print(f\"Systems with interface {interface} is now assolated from the network\")\n",
    "        elif current_os == \"Windows\":\n",
    "            print(\"Operating System Detected: \", current_os)\n",
    "            # Get the network adapter names\n",
    "            adapters = subprocess.check_output('powershell -Command \"Get-NetAdapter | Select-Object Name, Status\"', \n",
    "                                               shell=True, text=True, )\n",
    "            print(\"Raw Adaptet Data: \\n\", adapters)\n",
    "\n",
    "            # Parse the output for valid interfaces\n",
    "            valid_interfaces = []\n",
    "            for line in adapters.splitlines():\n",
    "                if \"Up\" in line:\n",
    "                    # Extract adapter name\n",
    "                    interface_name = line.split(\"Up\")[0].strip()\n",
    "                    if not any(keyword in interface_name  for keyword in [\"VirtualBox\", \"WAN\", \"Bluetooth\", \"Microsoft Wi-Fi Direct\"]):\n",
    "                        valid_interfaces.append(interface_name)\n",
    "             \n",
    "            print(\"Valid Interfaces Detected: \", valid_interfaces, '\\n')\n",
    "            \n",
    "            # Disable the network interface\n",
    "            for interface in valid_interfaces:\n",
    "                print(f\"Attempting to disable: '{interface}'\")\n",
    "                try:\n",
    "                    subprocess.run([\"powershell\", \"-ExecutionPolicy\", \"ByPass\", \"-Command\", \n",
    "                                             f\"Disable-NetAdapter -Name \\\"{interface}\\\" -Confirm:$false\"], \n",
    "                                           stderr=subprocess.PIPE, text=True, check=True)\n",
    "                    print(\"Sucessfully Isolated: \", interface)\n",
    "                except subprocess.CalledProcessError as e:\n",
    "                    print(\"Failed to isolate the system: \", interface)\n",
    "                    print(\"Error: \", e.stderr)\n",
    "                    \n",
    "        else:\n",
    "            print(\"Unsupported Operating System\")\n",
    "    except subprocess.CalledProcessError as e:\n",
    "        print(f\"Failed to isoliate the system: {e}\")\n",
    "\n",
    "isolate_systems()"
   ]
  },
  {
   "cell_type": "code",
   "execution_count": 2,
   "id": "ddc2bc4a-5eeb-4284-bdf5-b85474c72bb8",
   "metadata": {},
   "outputs": [
    {
     "name": "stdout",
     "output_type": "stream",
     "text": [
      "This script requires Administrative Privileges. Please rerun as an Administrator.\n"
     ]
    }
   ],
   "source": [
    "def enable_network_adapters():\n",
    "    if not is_admin():\n",
    "        print(\"This script requires Administrative Privileges. Please rerun as an Administrator.\")\n",
    "        return\n",
    "    \n",
    "    current_os = platform.system()\n",
    "    try:\n",
    "        if current_os == \"Windows\":\n",
    "            print(\"Operating System Detected: \", current_os)\n",
    "            # Get the network adapter names\n",
    "            adapters = subprocess.check_output(\n",
    "                'powershell -Command \"Get-NetAdapter | Select-Object Name, Status\"', \n",
    "                shell=True, text=True\n",
    "            )\n",
    "            print(\"Raw Adapter Data:\\n\", adapters)\n",
    "\n",
    "            # Parse the output for disabled interfaces\n",
    "            disabled_interfaces = []\n",
    "            for line in adapters.splitlines():\n",
    "                if \"Disabled\" in line:\n",
    "                    # Extract adapter name\n",
    "                    interface_name = line.split(\"Disabled\")[0].strip()\n",
    "                    if not any(keyword in interface_name for keyword in [\"VirtualBox\", \"WAN\", \"Bluetooth\", \"Microsoft Wi-Fi Direct\"]):\n",
    "                        disabled_interfaces.append(interface_name)\n",
    "             \n",
    "            print(\"Disabled Interfaces Detected: \", disabled_interfaces, '\\n')\n",
    "            \n",
    "            # Enable the network interface\n",
    "            for interface in disabled_interfaces:\n",
    "                print(f\"Attempting to enable: '{interface}'\")\n",
    "                try:\n",
    "                    subprocess.run(\n",
    "                        [\"powershell\", \"-ExecutionPolicy\", \"ByPass\", \"-Command\", \n",
    "                         f\"Enable-NetAdapter -Name \\\"{interface}\\\" -Confirm:$false\"], \n",
    "                        stderr=subprocess.PIPE, text=True, check=True\n",
    "                    )\n",
    "                    print(f\"Successfully Enabled: {interface}\")\n",
    "                except subprocess.CalledProcessError as e:\n",
    "                    print(f\"Failed to Enable the interface: {interface}\")\n",
    "                    print(\"Error: \", e.stderr)\n",
    "\n",
    "        elif current_os == \"Linux\" or current_os == \"Darwin\":\n",
    "            print(\"Operating System Detected: \", current_os)\n",
    "            # Get the network interfaces\n",
    "            interfaces = subprocess.check_output(\"ifconfig -a | grep 'flags=' | cut -d: -f1\", shell=True, text=True).splitlines()\n",
    "            print(f\"Detected Interfaces: {interfaces}\")\n",
    "            \n",
    "            # Check for disabled interfaces\n",
    "            disabled_interfaces = []\n",
    "            for interface in interfaces:\n",
    "                status_output = subprocess.check_output(\n",
    "                    f\"ifconfig {interface} | grep 'status:' || true\", \n",
    "                    shell=True, text=True\n",
    "                )\n",
    "                if \"inactive\" in status_output or \"down\" in status_output:\n",
    "                    disabled_interfaces.append(interface)\n",
    "            \n",
    "            print(\"Disabled Interfaces Detected: \", disabled_interfaces, '\\n')\n",
    "            \n",
    "            # Enable the network interfaces\n",
    "            for interface in disabled_interfaces:\n",
    "                print(f\"Attempting to enable: '{interface}'\")\n",
    "                try:\n",
    "                    subprocess.run([\"sudo\", \"ifconfig\", interface, \"up\"], check=True)\n",
    "                    print(f\"Successfully Enabled: {interface}\")\n",
    "                except subprocess.CalledProcessError as e:\n",
    "                    print(f\"Failed to Enable the interface: {interface}\")\n",
    "                    print(\"Error: \", e.stderr)\n",
    "        else:\n",
    "            print(\"Unsupported Operating System\")\n",
    "    except subprocess.CalledProcessError as e:\n",
    "        print(f\"Failed to enable the system: {e}\")\n",
    "\n",
    "enable_network_adapters()"
   ]
  },
  {
   "cell_type": "code",
   "execution_count": null,
   "id": "628f00e3-36a9-4a82-b995-4d0df1c4136b",
   "metadata": {},
   "outputs": [],
   "source": []
  }
 ],
 "metadata": {
  "kernelspec": {
   "display_name": "Python 3 (ipykernel)",
   "language": "python",
   "name": "python3"
  },
  "language_info": {
   "codemirror_mode": {
    "name": "ipython",
    "version": 3
   },
   "file_extension": ".py",
   "mimetype": "text/x-python",
   "name": "python",
   "nbconvert_exporter": "python",
   "pygments_lexer": "ipython3",
   "version": "3.11.7"
  },
  "widgets": {
   "application/vnd.jupyter.widget-state+json": {
    "state": {},
    "version_major": 2,
    "version_minor": 0
   }
  }
 },
 "nbformat": 4,
 "nbformat_minor": 5
}
