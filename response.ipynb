{
 "cells": [
  {
   "cell_type": "code",
   "execution_count": 2,
   "metadata": {},
   "outputs": [
    {
     "name": "stdout",
     "output_type": "stream",
     "text": [
      "Error with IP 203.0.113.45: IPv4 address 203.0.113.45 is already defined as TEST-NET-3 via RFC 5737.\n",
      "Request 1 from 192.168.1.1 allowed.\n",
      "Request 2 from 192.168.1.1 allowed.\n",
      "Request 3 from 192.168.1.1 allowed.\n",
      "Request 4 from 192.168.1.1 allowed.\n",
      "Request 5 from 192.168.1.1 allowed.\n",
      "Request 6 from 192.168.1.1 allowed.\n",
      "Request 7 from 192.168.1.1 allowed.\n",
      "Request 8 from 192.168.1.1 allowed.\n",
      "Request 9 from 192.168.1.1 allowed.\n",
      "Request 10 from 192.168.1.1 allowed.\n"
     ]
    }
   ],
   "source": [
    "import pickle\n",
    "import pandas as pd\n",
    "from all_response import (\n",
    "    backdoor_response,\n",
    "    enable_network_adapters,\n",
    "    worm_response,\n",
    "    shellcode_response,\n",
    "    reconnaissance_response,\n",
    "    generic_response,\n",
    "    exploit_response,\n",
    "    fuzzers,\n",
    "    dos_response,\n",
    ")"
   ]
  },
  {
   "cell_type": "code",
   "execution_count": 3,
   "metadata": {},
   "outputs": [],
   "source": [
    "cat_df = pd.read_csv(r\"data\\combined\\standard_scaled_attack_cat_dataset.csv\")\n",
    "label_df = pd.read_csv(r\"data\\combined\\standard_scaled_attack_label_dataset.csv\")"
   ]
  },
  {
   "cell_type": "code",
   "execution_count": 4,
   "metadata": {},
   "outputs": [],
   "source": [
    "features = label_df.columns\n",
    "features = features.drop(\n",
    "    [\n",
    "        \"onehot__attack_cat_Backdoor\",\n",
    "        \"onehot__attack_cat_DoS\",\n",
    "        \"onehot__attack_cat_Exploits\",\n",
    "        \"onehot__attack_cat_Fuzzers\",\n",
    "        \"onehot__attack_cat_Generic\",\n",
    "        \"onehot__attack_cat_Normal\",\n",
    "        \"onehot__attack_cat_Reconnaissance\",\n",
    "        \"onehot__attack_cat_Shellcode\",\n",
    "        \"onehot__attack_cat_Worms\",\n",
    "    ]\n",
    ")\n",
    "\n",
    "\n",
    "label_df = label_df[features]"
   ]
  },
  {
   "cell_type": "code",
   "execution_count": 5,
   "metadata": {},
   "outputs": [],
   "source": [
    "x = label_df.drop(\"remainder__attack_label\", axis=1)"
   ]
  },
  {
   "cell_type": "code",
   "execution_count": 6,
   "metadata": {},
   "outputs": [],
   "source": [
    "x_cat = cat_df.drop([\"remainder__attack_label\", \"attack_cat\"], axis=1)"
   ]
  },
  {
   "cell_type": "code",
   "execution_count": 7,
   "metadata": {},
   "outputs": [],
   "source": [
    "with open(r\"models\\attack_label_model.pkl\", \"rb\") as f:\n",
    "    label_model = pickle.load(f)\n",
    "\n",
    "with open(r\"models\\attack_cat_model.pkl\", \"rb\") as f:\n",
    "    cat_model = pickle.load(f)"
   ]
  },
  {
   "cell_type": "code",
   "execution_count": 10,
   "metadata": {},
   "outputs": [
    {
     "name": "stdout",
     "output_type": "stream",
     "text": [
      "Backdoor attack detected!\n",
      "Implementing Countermeasures...\n",
      "Starting backdoor attack response...\n",
      "Port is now open. Press Ctrl C to stop\n",
      "Unauthorized ports closed successfully.\n",
      "Operating System Detected: Windows\n",
      "Raw Adapter Data:\n",
      "\n",
      "Name                         Status      \n",
      "----                         ------      \n",
      "Ethernet                     Disconnected\n",
      "Bluetooth Network Connection Disconnected\n",
      "Wi-Fi                        Up          \n",
      "\n",
      "\n",
      "\n",
      "Valid Interfaces Detected: ['Wi-Fi']\n",
      "\n",
      "Disabling interface: Wi-Fi\n",
      "System isolated from the network.\n",
      "Backdoor attack response completed.\n"
     ]
    }
   ],
   "source": [
    "cat_dict = {\n",
    "    0: \"Analysis\",\n",
    "    1: \"Backdoor\",\n",
    "    2: \"Dos\",\n",
    "    3: \"Exploits\",\n",
    "    4: \"Fuzzers\",\n",
    "    5: \"Generic\",\n",
    "    6: \"Normal\",\n",
    "    7: \"Reconnaissance\",\n",
    "    8: \"Shellcode\",\n",
    "    9: \"Worms\",\n",
    "}\n",
    "\n",
    "# Check if there's an attack\n",
    "attack_pred = label_model.predict(x.iloc[47941].values.reshape(1, -1))\n",
    "\n",
    "if attack_pred == 0:  # 0 indicates attack\n",
    "    attack_category = cat_model.predict(x_cat.iloc[47941].values.reshape(1, -1))[0]\n",
    "\n",
    "    attack_name = cat_dict.get(attack_category, \"Unknown\")\n",
    "\n",
    "    if attack_name == \"Backdoor\":\n",
    "        print(\"Backdoor attack detected!\")\n",
    "        print(\"Implementing Countermeasures...\")\n",
    "        backdoor_response()\n",
    "    elif attack_name == \"Dos\":\n",
    "        print(\"DoS attack detected!\")\n",
    "        print(\"Implementing Countermeasures...\")\n",
    "        dos_response()\n",
    "    elif attack_name == \"Exploits\":\n",
    "        print(\"Exploits attack detected!\")\n",
    "        print(\"Implementing Countermeasures...\")\n",
    "        exploit_response()\n",
    "    elif attack_name == \"Fuzzers\":\n",
    "        print(\"Fuzzers attack detected!\")\n",
    "        print(\"Implementing Countermeasures...\")\n",
    "        fuzzers() \n",
    "    elif attack_name == \"Generic\":\n",
    "        print(\"Generic attack detected!\")\n",
    "        print(\"Implementing Countermeasures...\")\n",
    "        generic_response() \n",
    "    elif attack_name == \"Reconnaissance\":\n",
    "        print(\"Reconnaissance attack detected!\")\n",
    "        print(\"Implementing Countermeasures...\")\n",
    "        reconnaissance_response() \n",
    "    elif attack_name == \"Shellcode\":\n",
    "        print(\"Shellcode attack detected!\")\n",
    "        print(\"Implementing Countermeasures...\")\n",
    "        shellcode_response() \n",
    "    elif attack_name == \"Worms\":\n",
    "        print(\"Worms attack detected!\")\n",
    "        print(\"Implementing Countermeasures...\")\n",
    "        worm_response() \n",
    "        print(f\"Attack detected but unable to classify: {attack_name}\")\n",
    "else:\n",
    "    print(\"No threat\")"
   ]
  },
  {
   "cell_type": "code",
   "execution_count": 11,
   "metadata": {},
   "outputs": [
    {
     "name": "stdout",
     "output_type": "stream",
     "text": [
      "Operating System Detected: Windows\n",
      "Raw Adapter Data:\n",
      "\n",
      "Name                         Status      \n",
      "----                         ------      \n",
      "Ethernet                     Disconnected\n",
      "Bluetooth Network Connection Disconnected\n",
      "Wi-Fi                        Disabled    \n",
      "\n",
      "\n",
      "\n",
      "Disabled Interfaces Detected: ['Wi-Fi']\n",
      "\n",
      "Enabling interface: Wi-Fi\n",
      "Network interfaces enabled.\n"
     ]
    }
   ],
   "source": [
    "enable_network_adapters()"
   ]
  },
  {
   "cell_type": "code",
   "execution_count": null,
   "metadata": {},
   "outputs": [],
   "source": []
  }
 ],
 "metadata": {
  "kernelspec": {
   "display_name": "Python 3",
   "language": "python",
   "name": "python3"
  },
  "language_info": {
   "codemirror_mode": {
    "name": "ipython",
    "version": 3
   },
   "file_extension": ".py",
   "mimetype": "text/x-python",
   "name": "python",
   "nbconvert_exporter": "python",
   "pygments_lexer": "ipython3",
   "version": "3.12.5"
  }
 },
 "nbformat": 4,
 "nbformat_minor": 2
}
